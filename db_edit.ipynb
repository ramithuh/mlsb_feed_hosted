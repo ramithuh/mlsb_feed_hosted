{
 "cells": [
  {
   "cell_type": "markdown",
   "id": "85a735ae-48cc-4367-8e59-bf61669f4da9",
   "metadata": {},
   "source": [
    "## Fetch post to delete"
   ]
  },
  {
   "cell_type": "code",
   "execution_count": 1,
   "id": "4d6e4d76-aead-4a16-8d24-fc75546b6e99",
   "metadata": {},
   "outputs": [
    {
     "name": "stdout",
     "output_type": "stream",
     "text": [
      "bafyreidhfvbr53ipidqduwm4vdlpzaig5k5sdp4jao45xfq4v2o3swbqmu\n",
      "Protein LMs, genomic LMs, and chemical LMs, to name only a few. Incredible potential to transform medicine (already are), and they're based on the same tech as any language model. And all are technically subsets of machine learning. So, not completely different, to be fair.\n"
     ]
    }
   ],
   "source": [
    "from atproto import Client\n",
    "import re\n",
    "\n",
    "def convert_web_url_to_at_uri(web_url):\n",
    "    # Extract components from web URL\n",
    "    pattern = r\"https://bsky\\.app/profile/([^/]+)/post/([^/]+)\"\n",
    "    match = re.match(pattern, web_url)\n",
    "    if match:\n",
    "        handle, post_id = match.groups()\n",
    "        return f\"at://{handle}/app.bsky.feed.post/{post_id}\"\n",
    "    return None\n",
    "\n",
    "# Initialize client and login\n",
    "client = Client()\n",
    "client.login('ramith.fyi', '3mpu-vaed-7uvs-c4so')\n",
    "\n",
    "# Convert web URL to AT URI\n",
    "web_url = \"https://bsky.app/profile/chadbrambley.bsky.social/post/3lc2muiuepk2v\"\n",
    "at_uri = convert_web_url_to_at_uri(web_url)\n",
    "\n",
    "# Make the request with the AT URI\n",
    "response = client.get_post_thread(uri=at_uri)\n",
    "post_cid = response.thread.post.cid\n",
    "post_text = response.thread.post.record.text\n",
    "\n",
    "print(post_cid)\n",
    "print(post_text)"
   ]
  },
  {
   "cell_type": "markdown",
   "id": "841955cd-4030-456d-af47-1ef1dab1c7c7",
   "metadata": {},
   "source": [
    "### Make a connection to the db and locate the timestamp"
   ]
  },
  {
   "cell_type": "code",
   "execution_count": 2,
   "id": "0aa74155-d169-4127-9b0a-9871111c3a99",
   "metadata": {},
   "outputs": [
    {
     "name": "stdout",
     "output_type": "stream",
     "text": [
      "There are 103 posts\n",
      "Found CID: bafyreidhfvbr53ipidqduwm4vdlpzaig5k5sdp4jao45xfq4v2o3swbqmu !!\n",
      "Indexed At: 2024-11-29 03:22:20.706371\n"
     ]
    },
    {
     "data": {
      "text/plain": [
       "False"
      ]
     },
     "execution_count": 2,
     "metadata": {},
     "output_type": "execute_result"
    }
   ],
   "source": [
    "from datetime import datetime\n",
    "import peewee\n",
    "\n",
    "db = peewee.SqliteDatabase('feed_database2.db', pragmas={'journal_mode': 'wal'})\n",
    "\n",
    "class BaseModel(peewee.Model):\n",
    "    class Meta:\n",
    "        database = db\n",
    "\n",
    "class Post(BaseModel):\n",
    "    uri = peewee.CharField(index=True)\n",
    "    cid = peewee.CharField()\n",
    "    reply_parent = peewee.CharField(null=True, default=None)\n",
    "    reply_root = peewee.CharField(null=True, default=None)\n",
    "    indexed_at = peewee.DateTimeField(default=datetime.utcnow)\n",
    "\n",
    "# Use a connection context for safe reading\n",
    "with db.connection_context():\n",
    "    posts = Post.select()\n",
    "\n",
    "    print(f\"There are {len(posts)} posts\")\n",
    "    for post in posts:\n",
    "        # print(f\"URI: {post.uri}\")\n",
    "\n",
    "        if(post_cid == post.cid):\n",
    "            print(f\"Found CID: {post.cid} !!\")\n",
    "            print(f\"Indexed At: {post.indexed_at}\")\n",
    "\n",
    "db.close()"
   ]
  },
  {
   "cell_type": "code",
   "execution_count": 3,
   "id": "43334400-9eb5-4c66-8f2c-0ce981ecbb23",
   "metadata": {},
   "outputs": [
    {
     "data": {
      "text/plain": [
       "'bafyreidhfvbr53ipidqduwm4vdlpzaig5k5sdp4jao45xfq4v2o3swbqmu'"
      ]
     },
     "execution_count": 3,
     "metadata": {},
     "output_type": "execute_result"
    }
   ],
   "source": [
    "post_cid"
   ]
  },
  {
   "cell_type": "markdown",
   "id": "35fd9555-7a19-4cb5-8f50-208afbc27fa0",
   "metadata": {},
   "source": [
    "### Now delete that post"
   ]
  },
  {
   "cell_type": "code",
   "execution_count": 4,
   "id": "537dcb79-edb5-4e2b-b1b9-d46858039d29",
   "metadata": {},
   "outputs": [
    {
     "name": "stdout",
     "output_type": "stream",
     "text": [
      "Deleted 1 posts\n"
     ]
    }
   ],
   "source": [
    "from datetime import datetime\n",
    "\n",
    "# Reconfigure database with correct parameters\n",
    "db = peewee.SqliteDatabase('feed_database2.db', pragmas={\n",
    "    'journal_mode': 'wal',\n",
    "    'cache_size': -1024 * 64\n",
    "})\n",
    "\n",
    "# Delete specific post by cid\n",
    "target_cid = post_cid\n",
    "\n",
    "with db.connection_context():\n",
    "    deleted_count = Post.delete().where(Post.cid == target_cid).execute()\n",
    "    print(f\"Deleted {deleted_count} posts\")\n",
    "\n",
    "# If you want to be extra careful, you can check if it's closed\n",
    "if not db.is_closed():\n",
    "    print(\"closed db\")\n",
    "    db.close()"
   ]
  },
  {
   "cell_type": "code",
   "execution_count": 14,
   "id": "1cd01baa-56e3-4f8d-95d1-7d49dedc6c7d",
   "metadata": {},
   "outputs": [],
   "source": []
  },
  {
   "cell_type": "code",
   "execution_count": null,
   "id": "f8db0c1e-18fe-403e-9d2f-46dd3686b929",
   "metadata": {},
   "outputs": [],
   "source": []
  },
  {
   "cell_type": "code",
   "execution_count": null,
   "id": "e07e7f17-0fea-4e06-b7db-4864c786cb74",
   "metadata": {},
   "outputs": [],
   "source": []
  }
 ],
 "metadata": {
  "kernelspec": {
   "display_name": "bluesky",
   "language": "python",
   "name": "bluesky"
  },
  "language_info": {
   "codemirror_mode": {
    "name": "ipython",
    "version": 3
   },
   "file_extension": ".py",
   "mimetype": "text/x-python",
   "name": "python",
   "nbconvert_exporter": "python",
   "pygments_lexer": "ipython3",
   "version": "3.11.10"
  }
 },
 "nbformat": 4,
 "nbformat_minor": 5
}
