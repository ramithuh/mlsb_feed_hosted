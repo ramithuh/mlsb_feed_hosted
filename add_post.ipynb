{
 "cells": [
  {
   "cell_type": "code",
   "execution_count": 1,
   "id": "9876c056-f89b-431b-8864-38397741e9e5",
   "metadata": {},
   "outputs": [],
   "source": [
    "#!/usr/bin/env python\n",
    "from atproto import Client\n",
    "import re\n",
    "import peewee\n",
    "from typing import Tuple\n",
    "from datetime import datetime, timezone\n",
    "\n",
    "# Database configuration\n",
    "db = peewee.SqliteDatabase('feed_database2.db', pragmas={\n",
    "    'journal_mode': 'wal',\n",
    "    'cache_size': -1024 * 64\n",
    "})\n",
    "\n",
    "class BaseModel(peewee.Model):\n",
    "    class Meta:\n",
    "        database = db\n",
    "\n",
    "class Post(BaseModel):\n",
    "    uri = peewee.CharField(index=True)\n",
    "    cid = peewee.CharField()\n",
    "    reply_parent = peewee.CharField(null=True, default=None)\n",
    "    reply_root = peewee.CharField(null=True, default=None)\n",
    "    indexed_at = peewee.DateTimeField(default=datetime.utcnow)\n",
    "\n",
    "def convert_web_url_to_at_uri(web_url: str) -> str:\n",
    "    pattern = r\"https://bsky\\.app/profile/([^/]+)/post/([^/]+)\"\n",
    "    match = re.match(pattern, web_url)\n",
    "    if match:\n",
    "        handle, post_id = match.groups()\n",
    "        return f\"at://{handle}/app.bsky.feed.post/{post_id}\"\n",
    "    return None\n",
    "\n",
    "def preview_post_details(client: Client, web_url: str) -> Tuple[str, str, str, str, datetime]:\n",
    "    at_uri = convert_web_url_to_at_uri(web_url)\n",
    "    if not at_uri:\n",
    "        raise ValueError(\"Invalid Bluesky URL format\")\n",
    "    \n",
    "    response = client.get_post_thread(uri=at_uri)\n",
    "    post = response.thread.post\n",
    "    \n",
    "    # Get DID-based URI using author's DID\n",
    "    uri = f\"at://{post.author.did}/app.bsky.feed.post/{at_uri.split('/')[-1]}\"\n",
    "    \n",
    "    reply_root = None\n",
    "    reply_parent = None\n",
    "    if hasattr(post.record, 'reply'):\n",
    "        reply_root = post.record.reply.root.uri if post.record.reply !=None else None\n",
    "        reply_parent = post.record.reply.parent.uri if post.record.reply !=None else None\n",
    "    \n",
    "    # Convert timestamp to UTC\n",
    "    # Convert timestamp to naive datetime\n",
    "    created_at = datetime.fromisoformat(post.record.created_at.replace('Z', '+00:00'))\n",
    "    \n",
    "    if created_at.tzinfo is not None:\n",
    "        created_at = created_at.replace(tzinfo=None)  # Convert to naive datetime\n",
    "    else:\n",
    "        created_at = created_at.astimezone(timezone.utc)\n",
    "    \n",
    "    # Preview the values\n",
    "    print(\"Preview of post details:\")\n",
    "    print(f\"URI: {uri}\")\n",
    "    print(f\"CID: {post.cid}\")\n",
    "    print(f\"Created At (UTC): {created_at}\")\n",
    "    print(f\"Reply Parent: {reply_parent}\")\n",
    "    print(f\"Reply Root: {reply_root}\")\n",
    "    \n",
    "    return uri, post.cid, reply_parent, reply_root, created_at\n",
    "    \n",
    "\n",
    "def add_post_to_db(details) -> None:\n",
    "    try:\n",
    "        uri, cid, reply_parent, reply_root, created_at = details\n",
    "        \n",
    "        with db.connection_context():\n",
    "            existing_post = Post.select().where(Post.uri == uri).first()\n",
    "            if existing_post:\n",
    "                print(\"Post already exists in database\")\n",
    "                return\n",
    "                \n",
    "            Post.create(\n",
    "                uri=uri,\n",
    "                cid=cid,\n",
    "                reply_parent=reply_parent,\n",
    "                reply_root=reply_root,\n",
    "                indexed_at=created_at  # Use original timestamp\n",
    "            )\n",
    "            print(\"Post successfully added to database\")\n",
    "            \n",
    "    except Exception as e:\n",
    "        print(f\"Error processing post: {str(e)}\")\n",
    "    finally:\n",
    "        if not db.is_closed():\n",
    "            db.close()"
   ]
  },
  {
   "cell_type": "code",
   "execution_count": 2,
   "id": "4bd92e8c-bab5-487c-ab24-eae90341bdbd",
   "metadata": {},
   "outputs": [],
   "source": [
    "usrnme = 'ramith.fyi'\n",
    "psswd = '3mpu-vaed-7uvs-c4so'\n",
    "\n",
    "client = Client()\n",
    "client.login(usrnme, psswd);"
   ]
  },
  {
   "cell_type": "code",
   "execution_count": 5,
   "id": "7e9dd7d2-a328-49b2-aa3f-44feecde21b3",
   "metadata": {},
   "outputs": [
    {
     "name": "stdout",
     "output_type": "stream",
     "text": [
      "Preview of post details:\n",
      "URI: at://did:plc:6iowmsphpecdwmdzljt4jdqs/app.bsky.feed.post/3lc3pbropas2r\n",
      "CID: bafyreih5djzdzkm7egxvv45rjndvemcrbua36mwaxzbfqjcevr2n2vahja\n",
      "Created At (UTC): 2024-11-29 13:38:13.318000\n",
      "Reply Parent: None\n",
      "Reply Root: None\n"
     ]
    }
   ],
   "source": [
    "# Preview the post details\n",
    "web_url = \"https://bsky.app/profile/amlab.bsky.social/post/3lc3pbropas2r\"\n",
    "details = preview_post_details(client, web_url)"
   ]
  },
  {
   "cell_type": "code",
   "execution_count": 6,
   "id": "5cc60e0f-95ce-4d27-8eff-7044941cc559",
   "metadata": {},
   "outputs": [
    {
     "name": "stdout",
     "output_type": "stream",
     "text": [
      "Post successfully added to database\n"
     ]
    }
   ],
   "source": [
    "# Add to database only if preview looks correct\n",
    "add_post_to_db(details)"
   ]
  },
  {
   "cell_type": "code",
   "execution_count": null,
   "id": "60d9c6c4-6d51-4934-a11b-9da1ac1e7604",
   "metadata": {},
   "outputs": [],
   "source": []
  },
  {
   "cell_type": "code",
   "execution_count": null,
   "id": "9008023a-ce4e-4e22-9698-f366738e9b08",
   "metadata": {},
   "outputs": [],
   "source": []
  },
  {
   "cell_type": "code",
   "execution_count": null,
   "id": "f1752d00-bbfe-4572-ae74-7fb4b42a6c52",
   "metadata": {},
   "outputs": [],
   "source": []
  }
 ],
 "metadata": {
  "kernelspec": {
   "display_name": "bluesky",
   "language": "python",
   "name": "bluesky"
  },
  "language_info": {
   "codemirror_mode": {
    "name": "ipython",
    "version": 3
   },
   "file_extension": ".py",
   "mimetype": "text/x-python",
   "name": "python",
   "nbconvert_exporter": "python",
   "pygments_lexer": "ipython3",
   "version": "3.11.10"
  }
 },
 "nbformat": 4,
 "nbformat_minor": 5
}
